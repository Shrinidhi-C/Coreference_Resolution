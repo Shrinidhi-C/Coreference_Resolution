{
 "cells": [
  {
   "cell_type": "code",
   "execution_count": 18,
   "metadata": {
    "collapsed": true
   },
   "outputs": [],
   "source": [
    "import jsonrpc\n",
    "from simplejson import loads\n",
    "from pprint import pprint\n",
    "import nltk\n",
    "import pandas as pd"
   ]
  },
  {
   "cell_type": "code",
   "execution_count": 38,
   "metadata": {
    "collapsed": true
   },
   "outputs": [],
   "source": [
    "text = \"Obama is the the president of US. Florida is a nice place. It is good. He lives in Florida. Trump is the current president. He owns Trump tower\""
   ]
  },
  {
   "cell_type": "code",
   "execution_count": 39,
   "metadata": {
    "collapsed": false
   },
   "outputs": [
    {
     "data": {
      "text/plain": [
       "str"
      ]
     },
     "execution_count": 39,
     "metadata": {},
     "output_type": "execute_result"
    }
   ],
   "source": [
    "type(text)"
   ]
  },
  {
   "cell_type": "markdown",
   "metadata": {},
   "source": [
    "## Using stanford -corenlp and extracting only the COREF part of the result"
   ]
  },
  {
   "cell_type": "code",
   "execution_count": 5,
   "metadata": {
    "collapsed": false
   },
   "outputs": [],
   "source": [
    "def coref_resolution(text):\n",
    "    server = jsonrpc.ServerProxy(jsonrpc.JsonRpc20(),\n",
    "                             jsonrpc.TransportTcpIp(addr=(\"127.0.0.1\", 8080)))\n",
    "\n",
    "    result = loads(server.parse(text))\n",
    "    return result['coref']"
   ]
  },
  {
   "cell_type": "code",
   "execution_count": 6,
   "metadata": {
    "collapsed": false
   },
   "outputs": [
    {
     "data": {
      "text/plain": [
       "[[[[u'the the president of US', 0, 4, 2, 7], [u'Obama', 0, 0, 0, 1]],\n",
       "  [[u'He', 3, 0, 0, 1], [u'Obama', 0, 0, 0, 1]]],\n",
       " [[[u'a nice place', 1, 4, 2, 5], [u'Florida', 1, 0, 0, 1]],\n",
       "  [[u'It', 2, 0, 0, 1], [u'Florida', 1, 0, 0, 1]],\n",
       "  [[u'Florida', 3, 3, 3, 4], [u'Florida', 1, 0, 0, 1]]],\n",
       " [[[u'the current president', 4, 4, 2, 5], [u'Trump', 4, 0, 0, 1]],\n",
       "  [[u'He', 5, 0, 0, 1], [u'Trump', 4, 0, 0, 1]],\n",
       "  [[u'Trump', 5, 2, 2, 3], [u'Trump', 4, 0, 0, 1]]]]"
      ]
     },
     "execution_count": 6,
     "metadata": {},
     "output_type": "execute_result"
    }
   ],
   "source": [
    "coref_resolution(text)"
   ]
  },
  {
   "cell_type": "markdown",
   "metadata": {},
   "source": [
    "## Sentence and word tokenization of the text"
   ]
  },
  {
   "cell_type": "code",
   "execution_count": 7,
   "metadata": {
    "collapsed": true
   },
   "outputs": [],
   "source": [
    "def tokenize_text(text):\n",
    "    token_sen = nltk.sent_tokenize(text)\n",
    "    word = []\n",
    "    for i in range(len(token_sen)):\n",
    "        word.append(nltk.word_tokenize(token_sen[i]))\n",
    "    return word\n"
   ]
  },
  {
   "cell_type": "code",
   "execution_count": 10,
   "metadata": {
    "collapsed": false
   },
   "outputs": [
    {
     "data": {
      "text/plain": [
       "[['Obama', 'is', 'the', 'the', 'president', 'of', 'US', '.'],\n",
       " ['Florida', 'is', 'a', 'nice', 'place', '.'],\n",
       " ['It', 'is', 'good', '.'],\n",
       " ['He', 'lives', 'in', 'Florida', '.'],\n",
       " ['Trump', 'is', 'the', 'current', 'president', '.'],\n",
       " ['He', 'owns', 'Trump', 'tower']]"
      ]
     },
     "execution_count": 10,
     "metadata": {},
     "output_type": "execute_result"
    }
   ],
   "source": [
    "tokenize_text(text)"
   ]
  },
  {
   "cell_type": "markdown",
   "metadata": {},
   "source": [
    "## Function to rephrase the text with the coreference result"
   ]
  },
  {
   "cell_type": "code",
   "execution_count": 15,
   "metadata": {
    "collapsed": true
   },
   "outputs": [],
   "source": [
    "##list prps and nn \n",
    "\n",
    "pronouns = ['PRP', 'PRP$']\n",
    "nouns = ['NNP', 'NN', 'NNS', 'NNPS']"
   ]
  },
  {
   "cell_type": "code",
   "execution_count": 16,
   "metadata": {
    "collapsed": true
   },
   "outputs": [],
   "source": [
    "#compressed function\n",
    "def coref_rephrase(text):\n",
    "    coref = coref_resolution(text)\n",
    "    process_text = tokenize_text(text)\n",
    "        \n",
    "    for i in coref:\n",
    "        for j in i:\n",
    "       \n",
    "            pos_tag_left = nltk.pos_tag([j[0][0]])\n",
    "            pos_tag_right = nltk.pos_tag([j[1][0]])\n",
    "            \n",
    "            \n",
    "            #print a[j[0][1]]\n",
    "            #print pos_tag_left[0][0], \" | \", pos_tag_left[0][1], \" | \", pos_tag_right[0][0], \" | \", pos_tag_right[0][1]\n",
    "            #a being the word tokenizer\n",
    "            if pos_tag_left[0][1] in pronouns and pos_tag_right[0][1] in nouns:\n",
    "                if pos_tag_left[0][0] in process_text[j[0][1]]:\n",
    "                \n",
    "                   process_text[j[0][1]][process_text[j[0][1]].index(pos_tag_left[0][0])] = pos_tag_right[0][0]\n",
    "                    \n",
    "                \n",
    "                           \n",
    "    rephrase = [[' '.join(w) for w in process_text]]\n",
    "    return rephrase"
   ]
  },
  {
   "cell_type": "code",
   "execution_count": 17,
   "metadata": {
    "collapsed": false
   },
   "outputs": [
    {
     "data": {
      "text/plain": [
       "[['Obama is the the president of US .',\n",
       "  'Florida is a nice place .',\n",
       "  u'Florida is good .',\n",
       "  u'Obama lives in Florida .',\n",
       "  'Trump is the current president .',\n",
       "  u'Trump owns Trump tower']]"
      ]
     },
     "execution_count": 17,
     "metadata": {},
     "output_type": "execute_result"
    }
   ],
   "source": [
    "coref_rephrase(text)"
   ]
  },
  {
   "cell_type": "markdown",
   "metadata": {},
   "source": [
    "# Working on SQUAD dataset"
   ]
  },
  {
   "cell_type": "code",
   "execution_count": 19,
   "metadata": {
    "collapsed": true
   },
   "outputs": [],
   "source": [
    "squad_dev = pd.read_json('/data/squad_dataset/data/squad_dev_doc.json')\n",
    "train = pd.read_json('/data/squad_dataset/data/squad_train_doc.json')\n"
   ]
  },
  {
   "cell_type": "code",
   "execution_count": 20,
   "metadata": {
    "collapsed": false
   },
   "outputs": [
    {
     "data": {
      "text/html": [
       "<div>\n",
       "<table border=\"1\" class=\"dataframe\">\n",
       "  <thead>\n",
       "    <tr style=\"text-align: right;\">\n",
       "      <th></th>\n",
       "      <th>passages</th>\n",
       "      <th>title</th>\n",
       "    </tr>\n",
       "  </thead>\n",
       "  <tbody>\n",
       "    <tr>\n",
       "      <th>0</th>\n",
       "      <td>[{u'questions': [u'The Basilica of the Sacred ...</td>\n",
       "      <td>University_of_Notre_Dame</td>\n",
       "    </tr>\n",
       "    <tr>\n",
       "      <th>1</th>\n",
       "      <td>[{u'questions': [u'What was the first album Be...</td>\n",
       "      <td>Beyoncé</td>\n",
       "    </tr>\n",
       "    <tr>\n",
       "      <th>2</th>\n",
       "      <td>[{u'questions': [u'What is its rank in popular...</td>\n",
       "      <td>Montana</td>\n",
       "    </tr>\n",
       "    <tr>\n",
       "      <th>3</th>\n",
       "      <td>[{u'questions': [u'Which phrase is especially ...</td>\n",
       "      <td>Genocide</td>\n",
       "    </tr>\n",
       "    <tr>\n",
       "      <th>4</th>\n",
       "      <td>[{u'questions': [u'What is resistance to antib...</td>\n",
       "      <td>Antibiotics</td>\n",
       "    </tr>\n",
       "  </tbody>\n",
       "</table>\n",
       "</div>"
      ],
      "text/plain": [
       "                                            passages                     title\n",
       "0  [{u'questions': [u'The Basilica of the Sacred ...  University_of_Notre_Dame\n",
       "1  [{u'questions': [u'What was the first album Be...                   Beyoncé\n",
       "2  [{u'questions': [u'What is its rank in popular...                   Montana\n",
       "3  [{u'questions': [u'Which phrase is especially ...                  Genocide\n",
       "4  [{u'questions': [u'What is resistance to antib...               Antibiotics"
      ]
     },
     "execution_count": 20,
     "metadata": {},
     "output_type": "execute_result"
    }
   ],
   "source": [
    "train.head()"
   ]
  },
  {
   "cell_type": "code",
   "execution_count": 22,
   "metadata": {
    "collapsed": false
   },
   "outputs": [
    {
     "data": {
      "text/plain": [
       "442"
      ]
     },
     "execution_count": 22,
     "metadata": {},
     "output_type": "execute_result"
    }
   ],
   "source": [
    "len(train['passages'])  #442 rows"
   ]
  },
  {
   "cell_type": "code",
   "execution_count": 29,
   "metadata": {
    "collapsed": false
   },
   "outputs": [
    {
     "name": "stdout",
     "output_type": "stream",
     "text": [
      "Architecturally, the school has a Catholic character. Atop the Main Building's gold dome is a golden statue of the Virgin Mary. Immediately in front of the Main Building and facing it, is a copper statue of Christ with arms upraised with the legend \"Venite Ad Me Omnes\". Next to the Main Building is the Basilica of the Sacred Heart. Immediately behind the basilica is the Grotto, a Marian place of prayer and reflection. It is a replica of the grotto at Lourdes, France where the Virgin Mary reputedly appeared to Saint Bernadette Soubirous in 1858. At the end of the main drive (and in a direct line that connects through 3 statues and the Gold Dome), is a simple, modern stone statue of Mary.\n"
     ]
    }
   ],
   "source": [
    "len(train['passages'][0])\n",
    "print(train['passages'][0][0]['context'])"
   ]
  },
  {
   "cell_type": "code",
   "execution_count": 32,
   "metadata": {
    "collapsed": false
   },
   "outputs": [
    {
     "name": "stdout",
     "output_type": "stream",
     "text": [
      "Beyonc Giselle Knowles-Carter (/bijnse/ bee-YON-say) (born September 4, 1981) is an American singer, songwriter, record producer and actress. Born and raised in Houston, Texas, she performed in various singing and dancing competitions as a child, and rose to fame in the late 1990s as lead singer of R&B girl-group Destiny's Child. Managed by her father, Mathew Knowles, the group became one of the world's best-selling girl groups of all time. Their hiatus saw the release of Beyonc's debut album, Dangerously in Love (2003), which established her as a solo artist worldwide, earned five Grammy Awards and featured the Billboard Hot 100 number-one singles \"Crazy in Love\" and \"Baby Boy\".\n",
      "*******************************************************************************************************\n",
      "Beyonc Giselle Knowles-Carter (bijnse bee-YON-say) (born September 4, 1981) is an American singer, songwriter, record producer and actress. Born and raised in Houston, Texas, she performed in various singing and dancing competitions as a child, and rose to fame in the late 1990s as lead singer of R&B girl-group Destinys Child. Managed by her father, Mathew Knowles, the group became one of the worlds best-selling girl groups of all time. Their hiatus saw the release of Beyoncs debut album, Dangerously in Love (2003), which established her as a solo artist worldwide, earned five Grammy Awards and featured the Billboard Hot 100 number-one singles \"Crazy in Love\" and \"Baby Boy\".\n"
     ]
    }
   ],
   "source": [
    "#running coref on a single context from the 2nd passage- titled \"Beyonce\"\n",
    "#need to clean the data and remove non ascii characters\n",
    "result = train['passages'][1][0]['context'].encode('ascii', 'ignore')\n",
    "\n",
    "print(result)\n",
    "print('*******************************************************************************************************')\n",
    "modified_result = ''.join( c for c in result if  c not in '/\\'') \n",
    "print(modified_result)"
   ]
  },
  {
   "cell_type": "code",
   "execution_count": 35,
   "metadata": {
    "collapsed": false
   },
   "outputs": [
    {
     "data": {
      "text/plain": [
       "[[[[u'an American singer', 0, 7, 15, 18],\n",
       "   [u'Beyonc Giselle Knowles-Carter -LRB- bijnse bee-YON-say -RRB- -LRB- born September 4 , 1981 -RRB-',\n",
       "    0,\n",
       "    2,\n",
       "    0,\n",
       "    14]],\n",
       "  [[u'she', 1, 8, 8, 9],\n",
       "   [u'Beyonc Giselle Knowles-Carter -LRB- bijnse bee-YON-say -RRB- -LRB- born September 4 , 1981 -RRB-',\n",
       "    0,\n",
       "    2,\n",
       "    0,\n",
       "    14]],\n",
       "  [[u'her', 2, 2, 2, 3],\n",
       "   [u'Beyonc Giselle Knowles-Carter -LRB- bijnse bee-YON-say -RRB- -LRB- born September 4 , 1981 -RRB-',\n",
       "    0,\n",
       "    2,\n",
       "    0,\n",
       "    14]],\n",
       "  [[u'her', 3, -1, 19, 20],\n",
       "   [u'Beyonc Giselle Knowles-Carter -LRB- bijnse bee-YON-say -RRB- -LRB- born September 4 , 1981 -RRB-',\n",
       "    0,\n",
       "    2,\n",
       "    0,\n",
       "    14]]],\n",
       " [[[u'her father', 2, 3, 2, 4], [u'Mathew Knowles', 2, 6, 5, 7]]],\n",
       " [[[u'Their', 3, 0, 0, 1],\n",
       "   [u'best-selling girl groups of all time', 2, 7, 15, 21]]],\n",
       " [[[u'Love -LRB- 2003 -RRB-', 3, 2, 12, 16], [u'Love', 3, 1, 41, 42]]]]"
      ]
     },
     "execution_count": 35,
     "metadata": {},
     "output_type": "execute_result"
    }
   ],
   "source": [
    "coref_resolution(modified_result)"
   ]
  },
  {
   "cell_type": "code",
   "execution_count": 33,
   "metadata": {
    "collapsed": false
   },
   "outputs": [
    {
     "data": {
      "text/plain": [
       "[['Beyonc Giselle Knowles-Carter ( bijnse bee-YON-say ) ( born September 4 , 1981 ) is an American singer , songwriter , record producer and actress .',\n",
       "  u'Born and raised in Houston , Texas , Beyonc Giselle Knowles-Carter -LRB- bijnse bee-YON-say -RRB- -LRB- born September 4 , 1981 -RRB- performed in various singing and dancing competitions as a child , and rose to fame in the late 1990s as lead singer of R & B girl-group Destinys Child .',\n",
       "  u'Managed by Beyonc Giselle Knowles-Carter -LRB- bijnse bee-YON-say -RRB- -LRB- born September 4 , 1981 -RRB- father , Mathew Knowles , the group became one of the worlds best-selling girl groups of all time .',\n",
       "  u\"best-selling girl groups of all time hiatus saw the release of Beyoncs debut album , Dangerously in Love ( 2003 ) , which established Beyonc Giselle Knowles-Carter -LRB- bijnse bee-YON-say -RRB- -LRB- born September 4 , 1981 -RRB- as a solo artist worldwide , earned five Grammy Awards and featured the Billboard Hot 100 number-one singles `` Crazy in Love '' and `` Baby Boy '' .\"]]"
      ]
     },
     "execution_count": 33,
     "metadata": {},
     "output_type": "execute_result"
    }
   ],
   "source": [
    "#performing coref and rephrasing the passage\n",
    "coref_rephrase(modified_result)"
   ]
  },
  {
   "cell_type": "code",
   "execution_count": 34,
   "metadata": {
    "collapsed": false
   },
   "outputs": [
    {
     "name": "stdout",
     "output_type": "stream",
     "text": [
      "1 loop, best of 3: 1.31 s per loop\n"
     ]
    }
   ],
   "source": [
    "%timeit(coref_rephrase(modified_result))"
   ]
  },
  {
   "cell_type": "code",
   "execution_count": null,
   "metadata": {
    "collapsed": true
   },
   "outputs": [],
   "source": [
    "##running the excerpt of a fiction through the coref_rephrase()"
   ]
  },
  {
   "cell_type": "code",
   "execution_count": 48,
   "metadata": {
    "collapsed": true
   },
   "outputs": [],
   "source": [
    "chesney = ' Chesney went downstairs to his locker and came back with the five chairs. Nudging open the apartment door, he was surprised to see a little blonde girl in pinafore and ankle socks standing beside the table. \"Are you lost?\" he said. \"I just got one question,\" she said. Actually, the voice asking the question came not from the girl but from the fanged mouth of the rubyred snake that uncoiled itself where a tongue would have been if this had really been a little girl instead of another demon. He put down the chairs.'"
   ]
  },
  {
   "cell_type": "code",
   "execution_count": 49,
   "metadata": {
    "collapsed": false
   },
   "outputs": [
    {
     "data": {
      "text/plain": [
       "' Chesney went downstairs to his locker and came back with the five chairs. Nudging open the apartment door, he was surprised to see a little blonde girl in pinafore and ankle socks standing beside the table. \"Are you lost?\" he said. \"I just got one question,\" she said. Actually, the voice asking the question came not from the girl but from the fanged mouth of the rubyred snake that uncoiled itself where a tongue would have been if this had really been a little girl instead of another demon. He put down the chairs.'"
      ]
     },
     "execution_count": 49,
     "metadata": {},
     "output_type": "execute_result"
    }
   ],
   "source": [
    "chesney"
   ]
  },
  {
   "cell_type": "code",
   "execution_count": 50,
   "metadata": {
    "collapsed": false
   },
   "outputs": [
    {
     "data": {
      "text/plain": [
       "[[u'Chesney went downstairs to Chesney locker and came back with the five chairs .',\n",
       "  u'Nudging open the apartment door , Chesney was surprised to see a little blonde girl in pinafore and ankle socks standing beside the table .',\n",
       "  \"`` Are you lost ? ''\",\n",
       "  'he said .',\n",
       "  u\"`` a little blonde girl just got one question , '' a little blonde girl said .\",\n",
       "  u'Actually , the voice asking the question came not from the girl but from the fanged mouth of the rubyred snake that uncoiled the voice asking the question where a tongue would have been if this had really been a little girl instead of another demon .',\n",
       "  u'another demon put down the chairs .']]"
      ]
     },
     "execution_count": 50,
     "metadata": {},
     "output_type": "execute_result"
    }
   ],
   "source": [
    "coref_rephrase(chesney)"
   ]
  }
 ],
 "metadata": {
  "kernelspec": {
   "display_name": "Python 2",
   "language": "python",
   "name": "python2"
  },
  "language_info": {
   "codemirror_mode": {
    "name": "ipython",
    "version": 2
   },
   "file_extension": ".py",
   "mimetype": "text/x-python",
   "name": "python",
   "nbconvert_exporter": "python",
   "pygments_lexer": "ipython2",
   "version": "2.7.12"
  }
 },
 "nbformat": 4,
 "nbformat_minor": 2
}
